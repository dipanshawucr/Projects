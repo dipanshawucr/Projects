{
  "nbformat": 4,
  "nbformat_minor": 0,
  "metadata": {
    "colab": {
      "name": "Basic Machine Learning.ipynb",
      "provenance": [],
      "collapsed_sections": [],
      "mount_file_id": "1WjMr9yTqdNpAPS1T7LxnOJ3Rboq7Yflk",
      "authorship_tag": "ABX9TyNkG2bZHjxMhCaA6ihVdMO5",
      "include_colab_link": true
    },
    "kernelspec": {
      "name": "python3",
      "display_name": "Python 3"
    }
  },
  "cells": [
    {
      "cell_type": "markdown",
      "metadata": {
        "id": "view-in-github",
        "colab_type": "text"
      },
      "source": [
        "<a href=\"https://colab.research.google.com/github/dipanshawucr/Projects/blob/main/Basic_Machine_Learning.ipynb\" target=\"_parent\"><img src=\"https://colab.research.google.com/assets/colab-badge.svg\" alt=\"Open In Colab\"/></a>"
      ]
    },
    {
      "cell_type": "markdown",
      "metadata": {
        "id": "XnHdgDx09MoB"
      },
      "source": [
        "# **Linear Regression Demo**"
      ]
    },
    {
      "cell_type": "code",
      "metadata": {
        "id": "3Ha1AgHQ86fK",
        "outputId": "d777bc20-e151-4c09-c188-d1a7af4e91ba",
        "colab": {
          "base_uri": "https://localhost:8080/",
          "height": 364
        }
      },
      "source": [
        "import matplotlib.pyplot as plt\n",
        "import numpy as np\n",
        "from sklearn import datasets, linear_model\n",
        "\n",
        "#Load the dataset\n",
        "house_price=[245, 312, 279, 308, 199, 219, 405, 324, 319, 255]\n",
        "size=[1400, 1600, 1700, 1875, 1100, 1550, 2350, 2450, 1425, 1700]\n",
        "\n",
        "size2=np.array(size).reshape((-1,1))\n",
        "\n",
        "\n",
        "regr=linear_model.LinearRegression()\n",
        "regr.fit(size2, house_price)\n",
        "\n",
        "print(\"Coefficients: \\n\", regr.coef_)\n",
        "print(\"intercepts: \\n\", regr.intercept_)\n",
        "\n",
        "regr.predict([[1400]]) #size*regr.coef_ + regr.intercept_\n",
        "\n",
        "def graph(formula, x_range):\n",
        "  x=np.array(x_range)\n",
        "  y=eval(formula)\n",
        "  plt.plot(x,y)\n",
        "\n",
        "graph('regr.coef_*x + regr.intercept_', range(1000,2700))\n",
        "plt.scatter(size, house_price, color='black')\n",
        "plt.xlabel('House Price')\n",
        "plt.ylabel('size')\n",
        "\n"
      ],
      "execution_count": null,
      "outputs": [
        {
          "output_type": "stream",
          "text": [
            "Coefficients: \n",
            " [0.10976774]\n",
            "intercepts: \n",
            " 98.24832962138078\n"
          ],
          "name": "stdout"
        },
        {
          "output_type": "execute_result",
          "data": {
            "text/plain": [
              "Text(0, 0.5, 'size')"
            ]
          },
          "metadata": {
            "tags": []
          },
          "execution_count": 9
        },
        {
          "output_type": "display_data",
          "data": {
            "image/png": "[encoded data removed]",
            "text/plain": [
              "<Figure size 432x288 with 1 Axes>"
            ]
          },
          "metadata": {
            "tags": [],
            "needs_background": "light"
          }
        }
      ]
    },
    {
      "cell_type": "markdown",
      "metadata": {
        "id": "RAIzkPE5BRLV"
      },
      "source": [
        "# **K-means Clustering Demo**"
      ]
    },
    {
      "cell_type": "code",
      "metadata": {
        "id": "Jg3WLcu2BVdy",
        "outputId": "aedff9a8-edee-41fe-d3d9-1f3428b9f6e6",
        "colab": {
          "base_uri": "https://localhost:8080/",
          "height": 68
        }
      },
      "source": [
        "import numpy as np\n",
        "import matplotlib.pyplot as plt\n",
        "\n",
        "from matplotlib import style\n",
        "style.use(\"ggplot\")\n",
        "from sklearn.cluster import KMeans\n",
        "\n",
        "X=np.array([[1,2], [5,8], [1.5, 1.8], [8,8],[1,0.6], [9,11]])\n",
        "\n",
        "kmeans = KMeans(n_clusters=2)\n",
        "kmeans.fit((X))\n",
        "\n",
        "centroids = kmeans.cluster_centers_\n",
        "labels = kmeans.labels_\n",
        "\n",
        "print(centroids)\n",
        "print(labels)"
      ],
      "execution_count": null,
      "outputs": [
        {
          "output_type": "stream",
          "text": [
            "[[1.16666667 1.46666667]\n",
            " [7.33333333 9.        ]]\n",
            "[0 1 0 1 0 1]\n"
          ],
          "name": "stdout"
        }
      ]
    },
    {
      "cell_type": "markdown",
      "metadata": {
        "id": "7XrEqgEFj3jw"
      },
      "source": [
        "# **How to generate and sample random numbers**"
      ]
    },
    {
      "cell_type": "code",
      "metadata": {
        "id": "kIfEuZYIf3Jf",
        "outputId": "e0beac62-000f-4db8-cb21-d80f58b0fbb2",
        "colab": {
          "base_uri": "https://localhost:8080/",
          "height": 103
        }
      },
      "source": [
        "import random\n",
        "print(random.random()) #between 0<=x<1\n",
        "print(random.randint(0,10)) #between 0<=x<10\n",
        "randlist=[random.randint(0,10) for _ in range(10)]\n",
        "print(randlist) #[9, 10, 4, 6, 7, 0, 0, 0, 9, 4]\n",
        "random.shuffle(randlist)\n",
        "print(randlist) #[10, 6, 4, 9, 0, 9, 4, 0, 7, 0]\n",
        "print(random.sample(range(0,100), k =4)) #[36, 87, 76, 16]\n"
      ],
      "execution_count": null,
      "outputs": [
        {
          "output_type": "stream",
          "text": [
            "0.6854134877906664\n",
            "5\n",
            "[2, 6, 4, 7, 8, 8, 5, 6, 4, 2]\n",
            "[2, 6, 8, 5, 2, 6, 8, 4, 4, 7]\n",
            "[53, 14, 98, 89]\n"
          ],
          "name": "stdout"
        }
      ]
    },
    {
      "cell_type": "markdown",
      "metadata": {
        "id": "_KMTTx_Gd7WD"
      },
      "source": [
        "# **K-means clustering without Library**"
      ]
    },
    {
      "cell_type": "code",
      "metadata": {
        "id": "NyhH6YZSeAEB",
        "outputId": "51ba4095-fc38-4e60-fc55-72d09c95ce31",
        "colab": {
          "base_uri": "https://localhost:8080/",
          "height": 71
        }
      },
      "source": [
        "import numpy\n",
        "import random\n",
        "\n",
        "X=[[random.random() for _ in range(3)] for _ in range(100)]\n",
        "\n",
        "print(X)\n",
        "\n",
        "k=3\n",
        "clusters={}\n",
        "for i in range(k):\n",
        "  clusters[i]=[]\n",
        "\n",
        "centroids=[0]*k\n",
        "for i in range(k):\n",
        "  centroids[i]=X[random.randint(0,100)]\n",
        "print(centroids)\n",
        "\n"
      ],
      "execution_count": null,
      "outputs": [
        {
          "output_type": "stream",
          "text": [
            "[[0.7556078702824106, 0.3618375213264775, 0.8808017582801682], [0.03535596519955986, 0.6311515343831936, 0.9294373202677871], [0.5723548183571032, 0.4775953679310587, 0.7630672263974986], [0.3560681945498362, 0.7187701139347616, 0.9963085316019371], [0.93512894088334, 0.5121093159997405, 0.646239817353265], [0.01160786188222751, 0.5619719783391381, 0.8222610947671735], [0.24782997805630536, 0.43261261153195607, 0.6020111884198319], [0.2800478783555097, 0.49953824906344435, 0.16603630881706055], [0.3961777700322313, 0.3093141114682628, 0.8823263897366953], [0.0348137317064281, 0.6112950803663809, 0.4539544455560195], [0.7819519454441212, 0.7625354370255448, 0.8434570628729703], [0.4636093474658396, 0.26228767592049973, 0.47766230218701466], [0.2468049638955634, 0.9808821946997254, 0.537835847666512], [0.02561078693551011, 0.4771949964658163, 0.3150783031657788], [0.1646089503034437, 0.7058721407609662, 0.5149770416250522], [0.5362370755973099, 0.9089482089676555, 0.1125075319701323], [0.2985696837325842, 0.7010469506684812, 0.010634003182669494], [0.1392841181713913, 0.10003906329348167, 0.5798121786068983], [0.2880815779810585, 0.4069779443976359, 0.8661571805732092], [0.6748801987639306, 0.6921943702436724, 0.6342668949675612], [0.8018236357201678, 0.1839041332313286, 0.4519129274977981], [0.028704566521286945, 0.590866063828745, 0.30091055081303364], [0.4845810882831997, 0.06450798711985795, 0.05571863698751256], [0.4143398420007278, 0.28396194518641027, 0.8199006538786756], [0.8351831646812956, 0.021334716232024542, 0.16383520521157824], [0.40115201373286513, 0.3371408154744797, 0.03397194516136948], [0.8769927094328408, 0.16607165344045027, 0.631045961953222], [0.9428689051926806, 0.7483810477330358, 0.7837335139170032], [0.26172878551010803, 0.19693481334155716, 0.24240339967921554], [0.21663512131169993, 0.8936049548529025, 0.14132228963110127], [0.268683503939699, 0.7676842609323741, 0.4541238131306382], [0.5934868932023721, 0.8580957926686298, 0.19228153190013164], [0.8165690407821096, 0.5765570185831336, 0.4529731765481285], [0.33003425540300013, 0.20897950439740876, 0.6882051120998394], [0.19264226370214, 0.5116895098473543, 0.26387187572320814], [0.5549829567397733, 0.9624838932199271, 0.9228660190661634], [0.28880450587398954, 0.8992375144721791, 0.7189393129809895], [0.37815501953596964, 0.0882227263022054, 0.12066398543239454], [0.5924559139862683, 0.9004047341862803, 0.8514506149229354], [0.0031300224290228273, 0.6332319355166676, 0.88273599195817], [0.008119278478819658, 0.4984009391760439, 0.5575136930103843], [0.05530037192140613, 0.4230594768444861, 0.9830225790915503], [0.5858422727600695, 0.009100450881464717, 0.6875283505829644], [0.2597130853347571, 0.5425969932731265, 0.9513707135821659], [0.24787249479804896, 0.6829349827556037, 0.15837465532752204], [0.6354779885626979, 0.4620768068563089, 0.24334394067346], [0.33606822760976984, 0.5234299492212907, 0.898023731993543], [0.7768956893925488, 0.4596850994187708, 0.22055662353204375], [0.37247219224297345, 0.8898108308013823, 0.6682637534374813], [0.9226531092557363, 0.08703022109659486, 0.3402073701225128], [0.5285350026496213, 0.511376218829718, 0.4741722322022034], [0.7907256546646475, 0.5603871063254707, 0.0842450743818044], [0.6339966314698374, 0.22449108949638963, 0.8727963316465073], [0.6133231369024609, 0.943597140580082, 0.5095708482000914], [0.8934553012655161, 0.9088788733383216, 0.18704028748978452], [0.5366020492497201, 0.8482526777187253, 0.259013962803636], [0.5428766974756855, 0.6527753312992246, 0.8514465936389768], [0.9452326341170223, 0.046855780780942324, 0.23363548804298395], [0.32415523920903977, 0.4637492426703155, 0.1726640734392263], [0.36094696406372906, 0.5926203020305271, 0.6829843028329522], [0.6423894863569859, 0.18023038103181688, 0.6432564429695322], [0.08087891230562827, 0.5873504309770881, 0.5026432561175086], [0.8658078822746879, 0.015041156419151935, 0.09544608178219882], [0.7823353309193473, 0.7709898207278428, 0.9462664642312403], [0.9879241546961852, 0.9781280592485568, 0.08813905713311598], [0.8706528938539204, 0.7249503617123089, 0.06544810557039304], [0.5248674611987234, 0.6697499411462672, 0.9211695659653746], [0.4921284100165686, 0.5914806430171311, 0.29975293215056986], [0.5631893847868659, 0.37046806203195726, 0.3017183968635395], [0.019989197945356807, 0.11252256929630433, 0.4583674116529174], [0.7428910611522893, 0.05814896012078663, 0.060356921629028504], [0.8239293402061337, 0.14742277642685242, 0.872323977436373], [0.546614396802494, 0.9247537835077025, 0.8272571159521659], [0.9870376131645214, 0.12109610001942339, 0.4772619942236199], [0.4557249926906187, 0.9960442088549933, 0.7201631968093714], [0.2685544702234103, 0.49501857394581983, 0.8584287538011075], [0.4389449330302724, 0.5630312271813478, 0.7002832038330219], [0.6052575753672338, 0.29483278658705336, 0.7625543701813688], [0.7279657920896251, 0.5077284329975711, 0.5144675829897566], [0.07773178331429198, 0.5383095928258174, 0.6802913514145097], [0.20357912472034478, 0.3199742269330126, 0.18812131033021096], [0.7926342174597237, 0.1335850655438715, 0.6842313585749504], [0.10750529413269161, 0.08034988059069226, 0.6309971192250461], [0.023082679069401757, 0.11287826254313338, 0.17739367869610734], [0.6572750736066788, 0.7580487542528571, 0.44264960516001806], [0.37826837915730926, 0.09873539091584993, 0.9129451365983215], [0.5381629794520068, 0.5189890122238764, 0.7333190235738114], [0.10898448122642157, 0.4754716698552989, 0.8282104128394729], [0.0502412453124772, 0.7241557432181455, 0.014279517598728031], [0.4616627124831112, 0.011446252097615739, 0.3847178449052344], [0.9449675434669809, 0.14671197522092272, 0.7242029910038794], [0.29615660771698515, 0.3771935513550616, 0.7937576838247983], [0.48269683784006456, 0.4640782861779039, 0.6010932797539985], [0.3732426402771801, 0.6973807816970619, 0.9117385816187662], [0.37776461224182867, 0.9482069737794376, 0.46349017099094003], [0.21723825622404447, 0.9590877607397588, 0.08327161094534108], [0.9243599938718013, 0.29882844482123716, 0.886699919030037], [0.9935426789141367, 0.491409123391332, 0.750511727431327], [0.3317534606766722, 0.2740525659664679, 0.7736289985326452], [0.195060471900388, 0.16292584589277537, 0.07196010349780291]]\n",
            "[[0.28880450587398954, 0.8992375144721791, 0.7189393129809895], [0.8706528938539204, 0.7249503617123089, 0.06544810557039304], [0.26172878551010803, 0.19693481334155716, 0.24240339967921554]]\n"
          ],
          "name": "stdout"
        }
      ]
    },
    {
      "cell_type": "code",
      "metadata": {
        "id": "hx4NhuocoTPW"
      },
      "source": [
        "def recalculate_clusters(X, centroids, k):\n",
        "  clusters={}\n",
        "  for i in range(k): clusters[i]=[]\n",
        "  for data in X:\n",
        "    euc_dist=[]\n",
        "\n",
        "    for j in range(k):\n",
        "      euc_dist.append(numpy.linalg.norm(numpy.array(data) - numpy.array(centroids[j])))  # for each data calculate the euclididan distance from each cluster\n",
        "\n",
        "    clusters[euc_dist.index(min(euc_dist))].append(data)    # Insert the data to that cluster that have min euclidian distance  \n",
        "  return clusters\n",
        "\n",
        "def recalculate_centroids(centroids, clusters, k):\n",
        "  for i in range(k):\n",
        "    centroids[i]=numpy.average(clusters[i], axis=0)\n",
        "  \n",
        "  return centroids\n"
      ],
      "execution_count": null,
      "outputs": []
    },
    {
      "cell_type": "code",
      "metadata": {
        "id": "uWRKfnZ1qIn3",
        "outputId": "b4dd5ba5-781b-4a09-bf29-e42a2c17a582",
        "colab": {
          "base_uri": "https://localhost:8080/",
          "height": 103
        }
      },
      "source": [
        "\n",
        "prev_centroids=centroids\n",
        "print(centroids)\n",
        "while True:\n",
        "#for i in range(10):\n",
        "  clusters=recalculate_clusters(X, centroids, k)\n",
        "  centroids=recalculate_centroids(centroids, clusters, k)\n",
        "  print(centroids)\n",
        "  for key, val in clusters.items():\n",
        "    print(len(val))\n",
        "  if numpy.linalg.norm(numpy.array(prev_centroids)-numpy.array(centroids))<0.000000000000000000000000000001:\n",
        "    break\n",
        "  \n"
      ],
      "execution_count": null,
      "outputs": [
        {
          "output_type": "stream",
          "text": [
            "[array([0.35510934, 0.62035849, 0.77478366]), array([0.45936376, 0.67740491, 0.22849448]), array([0.61058772, 0.17812328, 0.49945097])]\n",
            "[array([0.35510934, 0.62035849, 0.77478366]), array([0.45936376, 0.67740491, 0.22849448]), array([0.61058772, 0.17812328, 0.49945097])]\n",
            "39\n",
            "28\n",
            "33\n"
          ],
          "name": "stdout"
        }
      ]
    },
    {
      "cell_type": "markdown",
      "metadata": {
        "id": "gDAjxuyR2Pcj"
      },
      "source": [
        "# **KNN without library**"
      ]
    },
    {
      "cell_type": "code",
      "metadata": {
        "id": "0meb0F8w2UU3"
      },
      "source": [
        "from pandas import read_csv\n",
        "import pandas as pd\n",
        "import numpy as np\n",
        "import matplotlib.pyplot as plt\n",
        "# Use matplotlib in Jupyter Notebook Outputs\n",
        "%matplotlib inline\n",
        "\n",
        "from sklearn.model_selection import train_test_split\n",
        "\n",
        "\n",
        "url = \"https://raw.githubusercontent.com/jbrownlee/Datasets/master/iris.csv\"\n",
        "names = ['sepal-length', 'sepal-width', 'petal-length', 'petal-width', 'class']\n",
        "datasets=pd.read_csv(url, names=names)\n",
        "\n",
        "array=datasets.values\n",
        "X=array[:,0:4]\n",
        "y=array[:,4]\n",
        "\n",
        "X_train, X_validation, Y_train, Y_validation = train_test_split(X, y, test_size=0.20, random_state=1)\n"
      ],
      "execution_count": null,
      "outputs": []
    },
    {
      "cell_type": "code",
      "metadata": {
        "id": "BsYXcZez20NY",
        "outputId": "629787fa-3e49-45eb-b3c8-74410bce65ed",
        "colab": {
          "base_uri": "https://localhost:8080/",
          "height": 285
        }
      },
      "source": [
        "for i in range(len(X)):\n",
        "    if y[i] == 'Iris-setosa':\n",
        "        plt.scatter(X[i][0], X[i][1], s=120, marker='P', linewidths=2, color='green')\n",
        "    elif y[i]=='Iris-versicolor':\n",
        "        plt.scatter(X[i][0], X[i][1], s=120, marker='P', linewidths=2, color='red')\n",
        "    else:\n",
        "        plt.scatter(X[i][0], X[i][1], s=120, marker='P', linewidths=2, color='blue')\n",
        "\n",
        "plt.plot()"
      ],
      "execution_count": null,
      "outputs": [
        {
          "output_type": "execute_result",
          "data": {
            "text/plain": [
              "[]"
            ]
          },
          "metadata": {
            "tags": []
          },
          "execution_count": 65
        },
        {
          "output_type": "display_data",
          "data": {
            "image/png": "[encoded data removed]",
            "text/plain": [
              "<Figure size 432x288 with 1 Axes>"
            ]
          },
          "metadata": {
            "tags": [],
            "needs_background": "light"
          }
        }
      ]
    },
    {
      "cell_type": "code",
      "metadata": {
        "id": "kef6DwZAh3Jd",
        "outputId": "7aa8440f-66c2-4f0e-a2b1-b241095d6135",
        "colab": {
          "base_uri": "https://localhost:8080/",
          "height": 34
        }
      },
      "source": [
        "def distance(X1, X2):\n",
        "  return np.linalg.norm(np.array(X1)-np.array(X2))\n",
        "\n",
        "def predict(X_train, Y_train, testsample, k):\n",
        "  dist=[]\n",
        "  for index, data in enumerate(X_train):\n",
        "    curdist=distance(data, testsample)\n",
        "    curlabel=Y_train[index]\n",
        "    dist.append([curdist, curlabel])\n",
        "    \n",
        "  dist.sort()\n",
        "  dist=dist[0:k]\n",
        "\n",
        "  votemap={}\n",
        "  for d in dist:\n",
        "    if d[1] in votemap:\n",
        "      votemap[d[1]]+=1\n",
        "    else:\n",
        "      votemap[d[1]]=1\n",
        "  \n",
        "  key=list(votemap.keys())\n",
        "  val=list(votemap.values())\n",
        "  return key[val.index(max(val))]   #key of maximum voted value  \n",
        "\n",
        "\n",
        "correct=0\n",
        "incorrect=0\n",
        "total=len(X_validation)\n",
        "for index, test in enumerate(X_validation):\n",
        "  if predict(X_train, Y_train, test, k=200)==Y_validation[index]:\n",
        "    correct+=1\n",
        "  else:\n",
        "    incorrect+=1\n",
        "\n",
        "print(correct, incorrect, total)\n",
        "\n",
        "\n",
        "\n"
      ],
      "execution_count": null,
      "outputs": [
        {
          "output_type": "stream",
          "text": [
            "6 24 30\n"
          ],
          "name": "stdout"
        }
      ]
    },
    {
      "cell_type": "markdown",
      "metadata": {
        "id": "yO0zfM1IncRu"
      },
      "source": [
        "# **Decision tree implementation using Python without library**"
      ]
    },
    {
      "cell_type": "code",
      "metadata": {
        "id": "AiDNllXDD7D4"
      },
      "source": [
        "from pandas import read_csv\n",
        "import pandas as pd\n",
        "from pandas.plotting import scatter_matrix\n",
        "from matplotlib import pyplot\n",
        "import matplotlib.pyplot as plt\n",
        "from sklearn.model_selection import train_test_split\n",
        "from sklearn.model_selection import cross_val_score\n",
        "from sklearn.model_selection import StratifiedKFold \n",
        "from sklearn.metrics import classification_report\n",
        "from sklearn.metrics import confusion_matrix\n",
        "from sklearn.metrics import accuracy_score\n",
        "from sklearn.linear_model import LogisticRegression\n",
        "#from sklearn.tree import DecisionTreeClassifier\n",
        "from sklearn.neighbors import KNeighborsClassifier \n",
        "from sklearn.discriminant_analysis import LinearDiscriminantAnalysis\n",
        "from sklearn.naive_bayes import GaussianNB\n",
        "import math"
      ],
      "execution_count": null,
      "outputs": []
    },
    {
      "cell_type": "code",
      "metadata": {
        "id": "OtP8rS5pDi6a"
      },
      "source": [
        "def entropy_func(c, n):\n",
        "    \"\"\"\n",
        "    The math formula\n",
        "    \"\"\"\n",
        "    return -(c*1.0/n)*math.log(c*1.0/n, 2)\n",
        "\n",
        "def entropy_cal(c1, c2):\n",
        "    \"\"\"\n",
        "    Returns entropy of a group of data\n",
        "    c1: count of one class\n",
        "    c2: count of another class\n",
        "    \"\"\"\n",
        "    if c1== 0 or c2 == 0:  # when there is only one class in the group, entropy is 0\n",
        "        return 0\n",
        "    return entropy_func(c1, c1+c2) + entropy_func(c2, c1+c2)\n",
        "\n",
        "# get the entropy of one big circle showing above\n",
        "def entropy_of_one_division(division): \n",
        "    \"\"\"\n",
        "    Returns entropy of a divided group of data\n",
        "    Data may have multiple classes\n",
        "    \"\"\"\n",
        "    s = 0\n",
        "    n = len(division)\n",
        "    classes = set(division)\n",
        "    for c in classes:   # for each class, get entropy\n",
        "        n_c = sum(division==c)\n",
        "        e = n_c*1.0/n * entropy_cal(sum(division==c), sum(division!=c)) # weighted avg\n",
        "        s += e\n",
        "    return s, n\n",
        "\n",
        "# The whole entropy of two big circles combined\n",
        "def get_entropy(y_predict, y_real):\n",
        "    \"\"\"\n",
        "    Returns entropy of a split\n",
        "    y_predict is the split decision, True/Fasle, and y_true can be multi class\n",
        "    \"\"\"\n",
        "    if len(y_predict) != len(y_real):\n",
        "        print('They have to be the same length')\n",
        "        return None\n",
        "    n = len(y_real)\n",
        "    s_true, n_true = entropy_of_one_division(y_real[y_predict]) # left hand side entropy\n",
        "    s_false, n_false = entropy_of_one_division(y_real[~y_predict]) # right hand side entropy\n",
        "    s = n_true*1.0/n * s_true + n_false*1.0/n * s_false # overall entropy, again weighted average\n",
        "    return s"
      ],
      "execution_count": null,
      "outputs": []
    },
    {
      "cell_type": "code",
      "metadata": {
        "id": "13vl_CdVnZZx"
      },
      "source": [
        "class DecisionTreeClassifierNew(object):\n",
        "    def __init__(self, max_depth):\n",
        "        self.depth = 0\n",
        "        self.max_depth = max_depth\n",
        "    \n",
        "    def fit(self, x, y, par_node={}, depth=0):\n",
        "        if par_node is None: \n",
        "            return None\n",
        "        elif len(y) == 0:\n",
        "            return None\n",
        "        elif self.all_same(y):\n",
        "            return {'val':y[0]}\n",
        "        elif depth >= self.max_depth:\n",
        "            return None\n",
        "        else: \n",
        "            col, cutoff, entropy = self.find_best_split_of_all(x, y)    # find one split given an information gain \n",
        "            y_left = y[x[:, col] < cutoff]\n",
        "            y_right = y[x[:, col] >= cutoff]\n",
        "            par_node = {'col': iris.feature_names[col], 'index_col':col,\n",
        "                        'cutoff':cutoff,\n",
        "                       'val': np.round(np.mean(y))}\n",
        "            par_node['left'] = self.fit(x[x[:, col] < cutoff], y_left, {}, depth+1)\n",
        "            par_node['right'] = self.fit(x[x[:, col] >= cutoff], y_right, {}, depth+1)\n",
        "            self.depth += 1 \n",
        "            self.trees = par_node\n",
        "            return par_node\n",
        "    \n",
        "    def find_best_split_of_all(self, x, y):\n",
        "        col = None\n",
        "        min_entropy = 1\n",
        "        cutoff = None\n",
        "        for i, c in enumerate(x.T):\n",
        "            entropy, cur_cutoff = self.find_best_split(c, y)\n",
        "            if entropy == 0:    # find the first perfect cutoff. Stop Iterating\n",
        "                return i, cur_cutoff, entropy\n",
        "            elif entropy <= min_entropy:\n",
        "                min_entropy = entropy\n",
        "                col = i\n",
        "                cutoff = cur_cutoff\n",
        "        return col, cutoff, min_entropy\n",
        "    \n",
        "    def find_best_split(self, col, y):\n",
        "        min_entropy = 10\n",
        "        n = len(y)\n",
        "        for value in set(col):\n",
        "            y_predict = col < value\n",
        "            my_entropy = get_entropy(y_predict, y)\n",
        "            if my_entropy <= min_entropy:\n",
        "                min_entropy = my_entropy\n",
        "                cutoff = value\n",
        "        return min_entropy, cutoff\n",
        "    \n",
        "    def all_same(self, items):\n",
        "        return all(x == items[0] for x in items)\n",
        "                                           \n",
        "    def predict(self, x):\n",
        "        tree = self.trees\n",
        "        results = np.array([0]*len(x))\n",
        "        for i, c in enumerate(x):\n",
        "            results[i] = self._get_prediction(c)\n",
        "        return results\n",
        "    \n",
        "    def _get_prediction(self, row):\n",
        "        cur_layer = self.trees\n",
        "        while cur_layer.get('cutoff'):\n",
        "            if row[cur_layer['index_col']] < cur_layer['cutoff']:\n",
        "                cur_layer = cur_layer['left']\n",
        "            else:\n",
        "                cur_layer = cur_layer['right']\n",
        "        else:\n",
        "            return cur_layer.get('val')"
      ],
      "execution_count": null,
      "outputs": []
    },
    {
      "cell_type": "code",
      "metadata": {
        "id": "ah0HQIflDkeD",
        "outputId": "96cd3c27-1a11-453a-dfde-f3117536d345",
        "colab": {
          "base_uri": "https://localhost:8080/",
          "height": 720
        }
      },
      "source": [
        "from sklearn.datasets import load_iris\n",
        "from pprint import pprint\n",
        "\n",
        "iris = load_iris()\n",
        "\n",
        "x = iris.data\n",
        "y = iris.target\n",
        "\n",
        "clf = DecisionTreeClassifierNew(max_depth=100)\n",
        "m = clf.fit(x, y)\n",
        "\n",
        "pprint(m)"
      ],
      "execution_count": null,
      "outputs": [
        {
          "output_type": "stream",
          "text": [
            "{'col': 'petal width (cm)',\n",
            " 'cutoff': 1.0,\n",
            " 'index_col': 3,\n",
            " 'left': {'val': 0},\n",
            " 'right': {'col': 'petal width (cm)',\n",
            "           'cutoff': 1.8,\n",
            "           'index_col': 3,\n",
            "           'left': {'col': 'petal length (cm)',\n",
            "                    'cutoff': 5.0,\n",
            "                    'index_col': 2,\n",
            "                    'left': {'col': 'petal width (cm)',\n",
            "                             'cutoff': 1.7,\n",
            "                             'index_col': 3,\n",
            "                             'left': {'val': 1},\n",
            "                             'right': {'val': 2},\n",
            "                             'val': 1.0},\n",
            "                    'right': {'col': 'petal width (cm)',\n",
            "                              'cutoff': 1.6,\n",
            "                              'index_col': 3,\n",
            "                              'left': {'val': 2},\n",
            "                              'right': {'col': 'sepal length (cm)',\n",
            "                                        'cutoff': 7.2,\n",
            "                                        'index_col': 0,\n",
            "                                        'left': {'val': 1},\n",
            "                                        'right': {'val': 2},\n",
            "                                        'val': 1.0},\n",
            "                              'val': 2.0},\n",
            "                    'val': 1.0},\n",
            "           'right': {'col': 'petal length (cm)',\n",
            "                     'cutoff': 4.9,\n",
            "                     'index_col': 2,\n",
            "                     'left': {'col': 'sepal length (cm)',\n",
            "                              'cutoff': 6.0,\n",
            "                              'index_col': 0,\n",
            "                              'left': {'val': 1},\n",
            "                              'right': {'val': 2},\n",
            "                              'val': 2.0},\n",
            "                     'right': {'val': 2},\n",
            "                     'val': 2.0},\n",
            "           'val': 2.0},\n",
            " 'val': 1.0}\n"
          ],
          "name": "stdout"
        }
      ]
    },
    {
      "cell_type": "markdown",
      "metadata": {
        "id": "-noX_t1qHUtV"
      },
      "source": [
        "# **All basic algorithms of Machine learing usign Iris data and sklearn libray**\n",
        "---\n",
        "\n"
      ]
    },
    {
      "cell_type": "code",
      "metadata": {
        "id": "5UJvc6puHdqL",
        "outputId": "eb01fd88-ebf6-44d1-8609-df6fab91b91d",
        "colab": {
          "base_uri": "https://localhost:8080/",
          "height": 810
        }
      },
      "source": [
        "#Load Libraries\n",
        "from pandas import read_csv\n",
        "import pandas as pd\n",
        "from pandas.plotting import scatter_matrix\n",
        "from matplotlib import pyplot\n",
        "import matplotlib.pyplot as plt\n",
        "from sklearn.model_selection import train_test_split\n",
        "from sklearn.model_selection import cross_val_score\n",
        "from sklearn.model_selection import StratifiedKFold \n",
        "from sklearn.metrics import classification_report\n",
        "from sklearn.metrics import confusion_matrix\n",
        "from sklearn.metrics import accuracy_score\n",
        "from sklearn.linear_model import LogisticRegression\n",
        "from sklearn.tree import DecisionTreeClassifier\n",
        "from sklearn.neighbors import KNeighborsClassifier \n",
        "from sklearn.discriminant_analysis import LinearDiscriminantAnalysis\n",
        "from sklearn.naive_bayes import GaussianNB\n",
        "\n",
        "from sklearn.svm import SVC\n",
        "url = \"https://raw.githubusercontent.com/jbrownlee/Datasets/master/iris.csv\"\n",
        "names = ['sepal-length', 'sepal-width', 'petal-length', 'petal-width', 'class']\n",
        "datasets=pd.read_csv(url, names=names)\n",
        "\n",
        "# shape\n",
        "#print(datasets.shape)\n",
        "# head\n",
        "#print(datasets.head(20))\n",
        "# descriptions\n",
        "#print(datasets.describe())\n",
        "# class distribution\n",
        "#print(datasets.groupby('class').size())\n",
        "\n",
        "datasets.plot(kind='box', subplots=True, layout=(2,2), sharex=False, sharey=False)\n",
        "plt.show()\n",
        "\n",
        "datasets.hist()\n",
        "plt.show()\n",
        "\n",
        "scatter_matrix(datasets)\n",
        "plt.show()"
      ],
      "execution_count": null,
      "outputs": [
        {
          "output_type": "display_data",
          "data": {
            "image/png": "[encoded data removed]",
            "text/plain": [
              "<Figure size 432x288 with 4 Axes>"
            ]
          },
          "metadata": {
            "tags": []
          }
        },
        {
          "output_type": "display_data",
          "data": {
            "image/png": "[encoded data removed]",
            "text/plain": [
              "<Figure size 432x288 with 4 Axes>"
            ]
          },
          "metadata": {
            "tags": []
          }
        },
        {
          "output_type": "display_data",
          "data": {
            "image/png": "[encoded data removed]",
            "text/plain": [
              "<Figure size 432x288 with 16 Axes>"
            ]
          },
          "metadata": {
            "tags": []
          }
        }
      ]
    },
    {
      "cell_type": "code",
      "metadata": {
        "id": "nVj2owiipxdd",
        "outputId": "1ce3a4e3-d42a-4a74-8ab1-e1d8f86b74db",
        "colab": {
          "base_uri": "https://localhost:8080/",
          "height": 120
        }
      },
      "source": [
        "array=datasets.values\n",
        "X=array[:,0:4]\n",
        "y=array[:,4]\n",
        "\n",
        "X_train, X_validation, Y_train, Y_validation = train_test_split(X, y, test_size=0.20, random_state=1)\n",
        "\n",
        "\n",
        "# Spot Check Algorithms\n",
        "models = []\n",
        "models.append(('LR', LogisticRegression(solver='liblinear', multi_class='ovr')))\n",
        "models.append(('LDA', LinearDiscriminantAnalysis()))\n",
        "models.append(('KNN', KNeighborsClassifier()))\n",
        "models.append(('CART', DecisionTreeClassifier()))\n",
        "models.append(('NB', GaussianNB()))\n",
        "models.append(('SVM', SVC(gamma='auto')))\n",
        "# evaluate each model in turn\n",
        "results = []\n",
        "names = []\n",
        "for name, model in models:\n",
        "\tkfold = StratifiedKFold(n_splits=10, random_state=1, shuffle=True)\n",
        "\tcv_results = cross_val_score(model, X_train, Y_train, cv=kfold, scoring='accuracy')\n",
        "\tresults.append(cv_results)\n",
        "\tnames.append(name)\n",
        "\tprint('%s: %f (%f)' % (name, cv_results.mean(), cv_results.std()))"
      ],
      "execution_count": null,
      "outputs": [
        {
          "output_type": "stream",
          "text": [
            "LR: 0.941667 (0.065085)\n",
            "LDA: 0.975000 (0.038188)\n",
            "KNN: 0.958333 (0.041667)\n",
            "CART: 0.950000 (0.040825)\n",
            "NB: 0.950000 (0.055277)\n",
            "SVM: 0.983333 (0.033333)\n"
          ],
          "name": "stdout"
        }
      ]
    },
    {
      "cell_type": "code",
      "metadata": {
        "id": "14hVoYPcqs_K",
        "outputId": "49d5ab6c-d4ed-42f8-95c3-0fd4264ac10e",
        "colab": {
          "base_uri": "https://localhost:8080/",
          "height": 282
        }
      },
      "source": [
        "...\n",
        "# Compare Algorithms\n",
        "pyplot.boxplot(results, labels=names)\n",
        "pyplot.title('Algorithm Comparison')\n",
        "pyplot.show()"
      ],
      "execution_count": null,
      "outputs": [
        {
          "output_type": "display_data",
          "data": {
            "image/png": "[encoded data removed]",
            "text/plain": [
              "<Figure size 432x288 with 1 Axes>"
            ]
          },
          "metadata": {
            "tags": []
          }
        }
      ]
    },
    {
      "cell_type": "code",
      "metadata": {
        "id": "wMvd67c-q-Ic",
        "outputId": "fb715be2-0048-4017-968c-15375ed5e563",
        "colab": {
          "base_uri": "https://localhost:8080/",
          "height": 257
        }
      },
      "source": [
        "\n",
        "# Make predictions on validation dataset\n",
        "model = SVC(gamma='auto')\n",
        "model.fit(X_train, Y_train)\n",
        "predictions = model.predict(X_validation)\n",
        "# Evaluate predictions\n",
        "print(accuracy_score(Y_validation, predictions))\n",
        "print(confusion_matrix(Y_validation, predictions))\n",
        "print(classification_report(Y_validation, predictions))"
      ],
      "execution_count": null,
      "outputs": [
        {
          "output_type": "stream",
          "text": [
            "0.9666666666666667\n",
            "[[11  0  0]\n",
            " [ 0 12  1]\n",
            " [ 0  0  6]]\n",
            "                 precision    recall  f1-score   support\n",
            "\n",
            "    Iris-setosa       1.00      1.00      1.00        11\n",
            "Iris-versicolor       1.00      0.92      0.96        13\n",
            " Iris-virginica       0.86      1.00      0.92         6\n",
            "\n",
            "       accuracy                           0.97        30\n",
            "      macro avg       0.95      0.97      0.96        30\n",
            "   weighted avg       0.97      0.97      0.97        30\n",
            "\n"
          ],
          "name": "stdout"
        }
      ]
    },
    {
      "cell_type": "code",
      "metadata": {
        "id": "MmJhTuvz0nZA"
      },
      "source": [
        ""
      ],
      "execution_count": null,
      "outputs": []
    },
    {
      "cell_type": "markdown",
      "metadata": {
        "id": "2PzqzDKj1DM3"
      },
      "source": [
        "# **Deep Neural Network**"
      ]
    },
    {
      "cell_type": "code",
      "metadata": {
        "id": "VmP-bHym0te1",
        "outputId": "d22bfdf9-5fa2-44eb-e87b-6f2316ccdcc3",
        "colab": {
          "base_uri": "https://localhost:8080/",
          "height": 34
        }
      },
      "source": [
        "import tensorflow as tf\n",
        "print(tf.__version__)"
      ],
      "execution_count": null,
      "outputs": [
        {
          "output_type": "stream",
          "text": [
            "2.3.0\n"
          ],
          "name": "stdout"
        }
      ]
    },
    {
      "cell_type": "code",
      "metadata": {
        "id": "K7jfdkYprY3q",
        "outputId": "9f8cdb82-7c99-43f5-a80b-5ffd9d629759",
        "colab": {
          "resources": {
            "http://localhost:8080/nbextensions/google.colab/files.js": {
              "data": "Ly8gQ29weXJpZ2h0IDIwMTcgR29vZ2xlIExMQwovLwovLyBMaWNlbnNlZCB1bmRlciB0aGUgQXBhY2hlIExpY2Vuc2UsIFZlcnNpb24gMi4wICh0aGUgIkxpY2Vuc2UiKTsKLy8geW91IG1heSBub3QgdXNlIHRoaXMgZmlsZSBleGNlcHQgaW4gY29tcGxpYW5jZSB3aXRoIHRoZSBMaWNlbnNlLgovLyBZb3UgbWF5IG9idGFpbiBhIGNvcHkgb2YgdGhlIExpY2Vuc2UgYXQKLy8KLy8gICAgICBodHRwOi8vd3d3LmFwYWNoZS5vcmcvbGljZW5zZXMvTElDRU5TRS0yLjAKLy8KLy8gVW5sZXNzIHJlcXVpcmVkIGJ5IGFwcGxpY2FibGUgbGF3IG9yIGFncmVlZCB0byBpbiB3cml0aW5nLCBzb2Z0d2FyZQovLyBkaXN0cmlidXRlZCB1bmRlciB0aGUgTGljZW5zZSBpcyBkaXN0cmlidXRlZCBvbiBhbiAiQVMgSVMiIEJBU0lTLAovLyBXSVRIT1VUIFdBUlJBTlRJRVMgT1IgQ09ORElUSU9OUyBPRiBBTlkgS0lORCwgZWl0aGVyIGV4cHJlc3Mgb3IgaW1wbGllZC4KLy8gU2VlIHRoZSBMaWNlbnNlIGZvciB0aGUgc3BlY2lmaWMgbGFuZ3VhZ2UgZ292ZXJuaW5nIHBlcm1pc3Npb25zIGFuZAovLyBsaW1pdGF0aW9ucyB1bmRlciB0aGUgTGljZW5zZS4KCi8qKgogKiBAZmlsZW92ZXJ2aWV3IEhlbHBlcnMgZm9yIGdvb2dsZS5jb2xhYiBQeXRob24gbW9kdWxlLgogKi8KKGZ1bmN0aW9uKHNjb3BlKSB7CmZ1bmN0aW9uIHNwYW4odGV4dCwgc3R5bGVBdHRyaWJ1dGVzID0ge30pIHsKICBjb25zdCBlbGVtZW50ID0gZG9jdW1lbnQuY3JlYXRlRWxlbWVudCgnc3BhbicpOwogIGVsZW1lbnQudGV4dENvbnRlbnQgPSB0ZXh0OwogIGZvciAoY29uc3Qga2V5IG9mIE9iamVjdC5rZXlzKHN0eWxlQXR0cmlidXRlcykpIHsKICAgIGVsZW1lbnQuc3R5bGVba2V5XSA9IHN0eWxlQXR0cmlidXRlc1trZXldOwogIH0KICByZXR1cm4gZWxlbWVudDsKfQoKLy8gTWF4IG51bWJlciBvZiBieXRlcyB3aGljaCB3aWxsIGJlIHVwbG9hZGVkIGF0IGEgdGltZS4KY29uc3QgTUFYX1BBWUxPQURfU0laRSA9IDEwMCAqIDEwMjQ7CgpmdW5jdGlvbiBfdXBsb2FkRmlsZXMoaW5wdXRJZCwgb3V0cHV0SWQpIHsKICBjb25zdCBzdGVwcyA9IHVwbG9hZEZpbGVzU3RlcChpbnB1dElkLCBvdXRwdXRJZCk7CiAgY29uc3Qgb3V0cHV0RWxlbWVudCA9IGRvY3VtZW50LmdldEVsZW1lbnRCeUlkKG91dHB1dElkKTsKICAvLyBDYWNoZSBzdGVwcyBvbiB0aGUgb3V0cHV0RWxlbWVudCB0byBtYWtlIGl0IGF2YWlsYWJsZSBmb3IgdGhlIG5leHQgY2FsbAogIC8vIHRvIHVwbG9hZEZpbGVzQ29udGludWUgZnJvbSBQeXRob24uCiAgb3V0cHV0RWxlbWVudC5zdGVwcyA9IHN0ZXBzOwoKICByZXR1cm4gX3VwbG9hZEZpbGVzQ29udGludWUob3V0cHV0SWQpOwp9CgovLyBUaGlzIGlzIHJvdWdobHkgYW4gYXN5bmMgZ2VuZXJhdG9yIChub3Qgc3VwcG9ydGVkIGluIHRoZSBicm93c2VyIHlldCksCi8vIHdoZXJlIHRoZXJlIGFyZSBtdWx0aXBsZSBhc3luY2hyb25vdXMgc3RlcHMgYW5kIHRoZSBQeXRob24gc2lkZSBpcyBnb2luZwovLyB0byBwb2xsIGZvciBjb21wbGV0aW9uIG9mIGVhY2ggc3RlcC4KLy8gVGhpcyB1c2VzIGEgUHJvbWlzZSB0byBibG9jayB0aGUgcHl0aG9uIHNpZGUgb24gY29tcGxldGlvbiBvZiBlYWNoIHN0ZXAsCi8vIHRoZW4gcGFzc2VzIHRoZSByZXN1bHQgb2YgdGhlIHByZXZpb3VzIHN0ZXAgYXMgdGhlIGlucHV0IHRvIHRoZSBuZXh0IHN0ZXAuCmZ1bmN0aW9uIF91cGxvYWRGaWxlc0NvbnRpbnVlKG91dHB1dElkKSB7CiAgY29uc3Qgb3V0cHV0RWxlbWVudCA9IGRvY3VtZW50LmdldEVsZW1lbnRCeUlkKG91dHB1dElkKTsKICBjb25zdCBzdGVwcyA9IG91dHB1dEVsZW1lbnQuc3RlcHM7CgogIGNvbnN0IG5leHQgPSBzdGVwcy5uZXh0KG91dHB1dEVsZW1lbnQubGFzdFByb21pc2VWYWx1ZSk7CiAgcmV0dXJuIFByb21pc2UucmVzb2x2ZShuZXh0LnZhbHVlLnByb21pc2UpLnRoZW4oKHZhbHVlKSA9PiB7CiAgICAvLyBDYWNoZSB0aGUgbGFzdCBwcm9taXNlIHZhbHVlIHRvIG1ha2UgaXQgYXZhaWxhYmxlIHRvIHRoZSBuZXh0CiAgICAvLyBzdGVwIG9mIHRoZSBnZW5lcmF0b3IuCiAgICBvdXRwdXRFbGVtZW50Lmxhc3RQcm9taXNlVmFsdWUgPSB2YWx1ZTsKICAgIHJldHVybiBuZXh0LnZhbHVlLnJlc3BvbnNlOwogIH0pOwp9CgovKioKICogR2VuZXJhdG9yIGZ1bmN0aW9uIHdoaWNoIGlzIGNhbGxlZCBiZXR3ZWVuIGVhY2ggYXN5bmMgc3RlcCBvZiB0aGUgdXBsb2FkCiAqIHByb2Nlc3MuCiAqIEBwYXJhbSB7c3RyaW5nfSBpbnB1dElkIEVsZW1lbnQgSUQgb2YgdGhlIGlucHV0IGZpbGUgcGlja2VyIGVsZW1lbnQuCiAqIEBwYXJhbSB7c3RyaW5nfSBvdXRwdXRJZCBFbGVtZW50IElEIG9mIHRoZSBvdXRwdXQgZGlzcGxheS4KICogQHJldHVybiB7IUl0ZXJhYmxlPCFPYmplY3Q+fSBJdGVyYWJsZSBvZiBuZXh0IHN0ZXBzLgogKi8KZnVuY3Rpb24qIHVwbG9hZEZpbGVzU3RlcChpbnB1dElkLCBvdXRwdXRJZCkgewogIGNvbnN0IGlucHV0RWxlbWVudCA9IGRvY3VtZW50LmdldEVsZW1lbnRCeUlkKGlucHV0SWQpOwogIGlucHV0RWxlbWVudC5kaXNhYmxlZCA9IGZhbHNlOwoKICBjb25zdCBvdXRwdXRFbGVtZW50ID0gZG9jdW1lbnQuZ2V0RWxlbWVudEJ5SWQob3V0cHV0SWQpOwogIG91dHB1dEVsZW1lbnQuaW5uZXJIVE1MID0gJyc7CgogIGNvbnN0IHBpY2tlZFByb21pc2UgPSBuZXcgUHJvbWlzZSgocmVzb2x2ZSkgPT4gewogICAgaW5wdXRFbGVtZW50LmFkZEV2ZW50TGlzdGVuZXIoJ2NoYW5nZScsIChlKSA9PiB7CiAgICAgIHJlc29sdmUoZS50YXJnZXQuZmlsZXMpOwogICAgfSk7CiAgfSk7CgogIGNvbnN0IGNhbmNlbCA9IGRvY3VtZW50LmNyZWF0ZUVsZW1lbnQoJ2J1dHRvbicpOwogIGlucHV0RWxlbWVudC5wYXJlbnRFbGVtZW50LmFwcGVuZENoaWxkKGNhbmNlbCk7CiAgY2FuY2VsLnRleHRDb250ZW50ID0gJ0NhbmNlbCB1cGxvYWQnOwogIGNvbnN0IGNhbmNlbFByb21pc2UgPSBuZXcgUHJvbWlzZSgocmVzb2x2ZSkgPT4gewogICAgY2FuY2VsLm9uY2xpY2sgPSAoKSA9PiB7CiAgICAgIHJlc29sdmUobnVsbCk7CiAgICB9OwogIH0pOwoKICAvLyBXYWl0IGZvciB0aGUgdXNlciB0byBwaWNrIHRoZSBmaWxlcy4KICBjb25zdCBmaWxlcyA9IHlpZWxkIHsKICAgIHByb21pc2U6IFByb21pc2UucmFjZShbcGlja2VkUHJvbWlzZSwgY2FuY2VsUHJvbWlzZV0pLAogICAgcmVzcG9uc2U6IHsKICAgICAgYWN0aW9uOiAnc3RhcnRpbmcnLAogICAgfQogIH07CgogIGNhbmNlbC5yZW1vdmUoKTsKCiAgLy8gRGlzYWJsZSB0aGUgaW5wdXQgZWxlbWVudCBzaW5jZSBmdXJ0aGVyIHBpY2tzIGFyZSBub3QgYWxsb3dlZC4KICBpbnB1dEVsZW1lbnQuZGlzYWJsZWQgPSB0cnVlOwoKICBpZiAoIWZpbGVzKSB7CiAgICByZXR1cm4gewogICAgICByZXNwb25zZTogewogICAgICAgIGFjdGlvbjogJ2NvbXBsZXRlJywKICAgICAgfQogICAgfTsKICB9CgogIGZvciAoY29uc3QgZmlsZSBvZiBmaWxlcykgewogICAgY29uc3QgbGkgPSBkb2N1bWVudC5jcmVhdGVFbGVtZW50KCdsaScpOwogICAgbGkuYXBwZW5kKHNwYW4oZmlsZS5uYW1lLCB7Zm9udFdlaWdodDogJ2JvbGQnfSkpOwogICAgbGkuYXBwZW5kKHNwYW4oCiAgICAgICAgYCgke2ZpbGUudHlwZSB8fCAnbi9hJ30pIC0gJHtmaWxlLnNpemV9IGJ5dGVzLCBgICsKICAgICAgICBgbGFzdCBtb2RpZmllZDogJHsKICAgICAgICAgICAgZmlsZS5sYXN0TW9kaWZpZWREYXRlID8gZmlsZS5sYXN0TW9kaWZpZWREYXRlLnRvTG9jYWxlRGF0ZVN0cmluZygpIDoKICAgICAgICAgICAgICAgICAgICAgICAgICAgICAgICAgICAgJ24vYSd9IC0gYCkpOwogICAgY29uc3QgcGVyY2VudCA9IHNwYW4oJzAlIGRvbmUnKTsKICAgIGxpLmFwcGVuZENoaWxkKHBlcmNlbnQpOwoKICAgIG91dHB1dEVsZW1lbnQuYXBwZW5kQ2hpbGQobGkpOwoKICAgIGNvbnN0IGZpbGVEYXRhUHJvbWlzZSA9IG5ldyBQcm9taXNlKChyZXNvbHZlKSA9PiB7CiAgICAgIGNvbnN0IHJlYWRlciA9IG5ldyBGaWxlUmVhZGVyKCk7CiAgICAgIHJlYWRlci5vbmxvYWQgPSAoZSkgPT4gewogICAgICAgIHJlc29sdmUoZS50YXJnZXQucmVzdWx0KTsKICAgICAgfTsKICAgICAgcmVhZGVyLnJlYWRBc0FycmF5QnVmZmVyKGZpbGUpOwogICAgfSk7CiAgICAvLyBXYWl0IGZvciB0aGUgZGF0YSB0byBiZSByZWFkeS4KICAgIGxldCBmaWxlRGF0YSA9IHlpZWxkIHsKICAgICAgcHJvbWlzZTogZmlsZURhdGFQcm9taXNlLAogICAgICByZXNwb25zZTogewogICAgICAgIGFjdGlvbjogJ2NvbnRpbnVlJywKICAgICAgfQogICAgfTsKCiAgICAvLyBVc2UgYSBjaHVua2VkIHNlbmRpbmcgdG8gYXZvaWQgbWVzc2FnZSBzaXplIGxpbWl0cy4gU2VlIGIvNjIxMTU2NjAuCiAgICBsZXQgcG9zaXRpb24gPSAwOwogICAgd2hpbGUgKHBvc2l0aW9uIDwgZmlsZURhdGEuYnl0ZUxlbmd0aCkgewogICAgICBjb25zdCBsZW5ndGggPSBNYXRoLm1pbihmaWxlRGF0YS5ieXRlTGVuZ3RoIC0gcG9zaXRpb24sIE1BWF9QQVlMT0FEX1NJWkUpOwogICAgICBjb25zdCBjaHVuayA9IG5ldyBVaW50OEFycmF5KGZpbGVEYXRhLCBwb3NpdGlvbiwgbGVuZ3RoKTsKICAgICAgcG9zaXRpb24gKz0gbGVuZ3RoOwoKICAgICAgY29uc3QgYmFzZTY0ID0gYnRvYShTdHJpbmcuZnJvbUNoYXJDb2RlLmFwcGx5KG51bGwsIGNodW5rKSk7CiAgICAgIHlpZWxkIHsKICAgICAgICByZXNwb25zZTogewogICAgICAgICAgYWN0aW9uOiAnYXBwZW5kJywKICAgICAgICAgIGZpbGU6IGZpbGUubmFtZSwKICAgICAgICAgIGRhdGE6IGJhc2U2NCwKICAgICAgICB9LAogICAgICB9OwogICAgICBwZXJjZW50LnRleHRDb250ZW50ID0KICAgICAgICAgIGAke01hdGgucm91bmQoKHBvc2l0aW9uIC8gZmlsZURhdGEuYnl0ZUxlbmd0aCkgKiAxMDApfSUgZG9uZWA7CiAgICB9CiAgfQoKICAvLyBBbGwgZG9uZS4KICB5aWVsZCB7CiAgICByZXNwb25zZTogewogICAgICBhY3Rpb246ICdjb21wbGV0ZScsCiAgICB9CiAgfTsKfQoKc2NvcGUuZ29vZ2xlID0gc2NvcGUuZ29vZ2xlIHx8IHt9OwpzY29wZS5nb29nbGUuY29sYWIgPSBzY29wZS5nb29nbGUuY29sYWIgfHwge307CnNjb3BlLmdvb2dsZS5jb2xhYi5fZmlsZXMgPSB7CiAgX3VwbG9hZEZpbGVzLAogIF91cGxvYWRGaWxlc0NvbnRpbnVlLAp9Owp9KShzZWxmKTsK",
              "ok": true,
              "headers": [
                [
                  "content-type",
                  "application/javascript"
                ]
              ],
              "status": 200,
              "status_text": ""
            }
          },
          "base_uri": "https://localhost:8080/",
          "height": 175
        }
      },
      "source": [
        "import pandas as pd\n",
        "\n",
        "from google.colab import files\n",
        "\n",
        "file=files.upload()\n",
        "\n",
        "X_train=pd.read_csv(\"xtrain.csv\", header=None)\n",
        "Y_train=pd.read_csv(\"ytrain.csv\", header=None)\n",
        "X_test=pd.read_csv(\"xtest.csv\", header=None)\n",
        "Y_test=pd.read_csv(\"ytest.csv\", header=None)\n",
        "\n",
        "\n",
        "\n"
      ],
      "execution_count": null,
      "outputs": [
        {
          "output_type": "display_data",
          "data": {
            "text/html": [
              "\n",
              "     <input type=\"file\" id=\"files-148a1820-a4db-4e99-b593-02681ff55913\" name=\"files[]\" multiple disabled\n",
              "        style=\"border:none\" />\n",
              "     <output id=\"result-148a1820-a4db-4e99-b593-02681ff55913\">\n",
              "      Upload widget is only available when the cell has been executed in the\n",
              "      current browser session. Please rerun this cell to enable.\n",
              "      </output>\n",
              "      <script src=\"/nbextensions/google.colab/files.js\"></script> "
            ],
            "text/plain": [
              "<IPython.core.display.HTML object>"
            ]
          },
          "metadata": {
            "tags": []
          }
        },
        {
          "output_type": "stream",
          "text": [
            "Saving xtest.csv to xtest.csv\n",
            "Saving xtrain.csv to xtrain.csv\n",
            "Saving ytest.csv to ytest.csv\n",
            "Saving ytrain.csv to ytrain.csv\n"
          ],
          "name": "stdout"
        }
      ]
    },
    {
      "cell_type": "code",
      "metadata": {
        "id": "SBuglfPs1dEK"
      },
      "source": [
        "from keras.models import Sequential\n",
        "from keras.layers import Dense\n",
        "\n",
        "classifier = Sequential()\n",
        "\n",
        "classifier.add(Dense(units=16, activation='relu', input_dim=30))\n",
        "classifier.add(Dense(units=8, activation='relu'))\n",
        "classifier.add(Dense(units=6, activation='relu'))\n",
        "classifier.add(Dense(units=1, activation='sigmoid'))"
      ],
      "execution_count": null,
      "outputs": []
    },
    {
      "cell_type": "code",
      "metadata": {
        "id": "CuyY1Wu-2D-R",
        "outputId": "240a1350-eae0-427d-9684-bb2cb959a669",
        "colab": {
          "base_uri": "https://localhost:8080/",
          "height": 1000
        }
      },
      "source": [
        "classifier.compile(optimizer='rmsprop', loss='binary_crossentropy')\n",
        "classifier.fit(X_train, Y_train, batch_size=1, epochs=100)"
      ],
      "execution_count": null,
      "outputs": [
        {
          "output_type": "stream",
          "text": [
            "Epoch 1/100\n",
            "455/455 [==============================] - 0s 913us/step - loss: 0.3104\n",
            "Epoch 2/100\n",
            "455/455 [==============================] - 0s 905us/step - loss: 0.1169\n",
            "Epoch 3/100\n",
            "455/455 [==============================] - 0s 913us/step - loss: 0.0923\n",
            "Epoch 4/100\n",
            "455/455 [==============================] - 0s 963us/step - loss: 0.0957\n",
            "Epoch 5/100\n",
            "455/455 [==============================] - 0s 916us/step - loss: 0.0913\n",
            "Epoch 6/100\n",
            "455/455 [==============================] - 0s 911us/step - loss: 0.0988\n",
            "Epoch 7/100\n",
            "455/455 [==============================] - 0s 914us/step - loss: 0.0979\n",
            "Epoch 8/100\n",
            "455/455 [==============================] - 0s 918us/step - loss: 0.1015\n",
            "Epoch 9/100\n",
            "455/455 [==============================] - 0s 914us/step - loss: 0.0935\n",
            "Epoch 10/100\n",
            "455/455 [==============================] - 0s 925us/step - loss: 0.0904\n",
            "Epoch 11/100\n",
            "455/455 [==============================] - 0s 977us/step - loss: 0.0980\n",
            "Epoch 12/100\n",
            "455/455 [==============================] - 0s 946us/step - loss: 0.0962\n",
            "Epoch 13/100\n",
            "455/455 [==============================] - 0s 935us/step - loss: 0.0925\n",
            "Epoch 14/100\n",
            "455/455 [==============================] - 1s 1ms/step - loss: 0.0864\n",
            "Epoch 15/100\n",
            "455/455 [==============================] - 0s 1ms/step - loss: 0.0839\n",
            "Epoch 16/100\n",
            "455/455 [==============================] - 0s 971us/step - loss: 0.0810\n",
            "Epoch 17/100\n",
            "455/455 [==============================] - 0s 911us/step - loss: 0.0803\n",
            "Epoch 18/100\n",
            "455/455 [==============================] - 0s 880us/step - loss: 0.0756\n",
            "Epoch 19/100\n",
            "455/455 [==============================] - 0s 935us/step - loss: 0.0776\n",
            "Epoch 20/100\n",
            "455/455 [==============================] - 1s 1ms/step - loss: 0.0746\n",
            "Epoch 21/100\n",
            "455/455 [==============================] - 1s 1ms/step - loss: 0.0745\n",
            "Epoch 22/100\n",
            "455/455 [==============================] - 0s 1ms/step - loss: 0.0650\n",
            "Epoch 23/100\n",
            "455/455 [==============================] - 0s 976us/step - loss: 0.0673\n",
            "Epoch 24/100\n",
            "455/455 [==============================] - 0s 913us/step - loss: 0.0706\n",
            "Epoch 25/100\n",
            "455/455 [==============================] - 0s 946us/step - loss: 0.0616\n",
            "Epoch 26/100\n",
            "455/455 [==============================] - 0s 1ms/step - loss: 0.0691\n",
            "Epoch 27/100\n",
            "455/455 [==============================] - 0s 996us/step - loss: 0.0751\n",
            "Epoch 28/100\n",
            "455/455 [==============================] - 0s 1ms/step - loss: 0.0789\n",
            "Epoch 29/100\n",
            "455/455 [==============================] - 1s 1ms/step - loss: 0.0647\n",
            "Epoch 30/100\n",
            "455/455 [==============================] - 1s 1ms/step - loss: 0.0699\n",
            "Epoch 31/100\n",
            "455/455 [==============================] - 1s 2ms/step - loss: 0.0708\n",
            "Epoch 32/100\n",
            "455/455 [==============================] - 1s 1ms/step - loss: 0.0763\n",
            "Epoch 33/100\n",
            "455/455 [==============================] - 1s 1ms/step - loss: 0.0651\n",
            "Epoch 34/100\n",
            "455/455 [==============================] - 0s 1ms/step - loss: 0.0640\n",
            "Epoch 35/100\n",
            "455/455 [==============================] - 0s 1ms/step - loss: 0.0591\n",
            "Epoch 36/100\n",
            "455/455 [==============================] - 0s 1ms/step - loss: 0.0528\n",
            "Epoch 37/100\n",
            "455/455 [==============================] - 1s 1ms/step - loss: 0.0674\n",
            "Epoch 38/100\n",
            "455/455 [==============================] - 0s 1ms/step - loss: 0.0555\n",
            "Epoch 39/100\n",
            "455/455 [==============================] - 0s 906us/step - loss: 0.0593\n",
            "Epoch 40/100\n",
            "455/455 [==============================] - 0s 1ms/step - loss: 0.0605\n",
            "Epoch 41/100\n",
            "455/455 [==============================] - 0s 915us/step - loss: 0.0633\n",
            "Epoch 42/100\n",
            "455/455 [==============================] - 0s 905us/step - loss: 0.0619\n",
            "Epoch 43/100\n",
            "455/455 [==============================] - 0s 931us/step - loss: 0.0574\n",
            "Epoch 44/100\n",
            "455/455 [==============================] - 0s 889us/step - loss: 0.0524\n",
            "Epoch 45/100\n",
            "455/455 [==============================] - 0s 953us/step - loss: 0.0508\n",
            "Epoch 46/100\n",
            "455/455 [==============================] - 0s 966us/step - loss: 0.0459\n",
            "Epoch 47/100\n",
            "455/455 [==============================] - 0s 1ms/step - loss: 0.0435\n",
            "Epoch 48/100\n",
            "455/455 [==============================] - 0s 931us/step - loss: 0.0488\n",
            "Epoch 49/100\n",
            "455/455 [==============================] - 0s 922us/step - loss: 0.0630\n",
            "Epoch 50/100\n",
            "455/455 [==============================] - 0s 964us/step - loss: 0.0363\n",
            "Epoch 51/100\n",
            "455/455 [==============================] - 0s 1ms/step - loss: 0.0375\n",
            "Epoch 52/100\n",
            "455/455 [==============================] - 1s 1ms/step - loss: 0.0344\n",
            "Epoch 53/100\n",
            "455/455 [==============================] - 1s 1ms/step - loss: 0.0259\n",
            "Epoch 54/100\n",
            "455/455 [==============================] - 0s 1ms/step - loss: 0.0466\n",
            "Epoch 55/100\n",
            "455/455 [==============================] - 0s 963us/step - loss: 0.0463\n",
            "Epoch 56/100\n",
            "455/455 [==============================] - 0s 928us/step - loss: 0.0373\n",
            "Epoch 57/100\n",
            "455/455 [==============================] - 0s 1ms/step - loss: 0.0340\n",
            "Epoch 58/100\n",
            "455/455 [==============================] - 0s 987us/step - loss: 0.0299\n",
            "Epoch 59/100\n",
            "455/455 [==============================] - 0s 922us/step - loss: 0.0338\n",
            "Epoch 60/100\n",
            "455/455 [==============================] - 0s 948us/step - loss: 0.0293\n",
            "Epoch 61/100\n",
            "455/455 [==============================] - 0s 987us/step - loss: 0.0330\n",
            "Epoch 62/100\n",
            "455/455 [==============================] - 1s 1ms/step - loss: 0.0234\n",
            "Epoch 63/100\n",
            "455/455 [==============================] - 1s 1ms/step - loss: 0.0261\n",
            "Epoch 64/100\n",
            "455/455 [==============================] - 0s 943us/step - loss: 0.0224\n",
            "Epoch 65/100\n",
            "455/455 [==============================] - 0s 973us/step - loss: 0.0372\n",
            "Epoch 66/100\n",
            "455/455 [==============================] - 0s 919us/step - loss: 0.0294\n",
            "Epoch 67/100\n",
            "455/455 [==============================] - 0s 974us/step - loss: 0.0177\n",
            "Epoch 68/100\n",
            "455/455 [==============================] - 0s 1ms/step - loss: 0.0271\n",
            "Epoch 69/100\n",
            "455/455 [==============================] - 0s 924us/step - loss: 0.0223\n",
            "Epoch 70/100\n",
            "455/455 [==============================] - 0s 943us/step - loss: 0.0193\n",
            "Epoch 71/100\n",
            "455/455 [==============================] - 0s 979us/step - loss: 0.0283\n",
            "Epoch 72/100\n",
            "455/455 [==============================] - 0s 951us/step - loss: 0.0193\n",
            "Epoch 73/100\n",
            "455/455 [==============================] - 0s 979us/step - loss: 0.0137\n",
            "Epoch 74/100\n",
            "455/455 [==============================] - 0s 941us/step - loss: 0.0217\n",
            "Epoch 75/100\n",
            "455/455 [==============================] - 0s 911us/step - loss: 0.0207\n",
            "Epoch 76/100\n",
            "455/455 [==============================] - 0s 942us/step - loss: 0.0147\n",
            "Epoch 77/100\n",
            "455/455 [==============================] - 0s 966us/step - loss: 0.0213\n",
            "Epoch 78/100\n",
            "455/455 [==============================] - 0s 892us/step - loss: 0.0138\n",
            "Epoch 79/100\n",
            "455/455 [==============================] - 0s 983us/step - loss: 0.0199\n",
            "Epoch 80/100\n",
            "455/455 [==============================] - 0s 1ms/step - loss: 0.0138\n",
            "Epoch 81/100\n",
            "455/455 [==============================] - 0s 987us/step - loss: 0.0088\n",
            "Epoch 82/100\n",
            "455/455 [==============================] - 0s 922us/step - loss: 0.0200\n",
            "Epoch 83/100\n",
            "455/455 [==============================] - 0s 953us/step - loss: 0.0213\n",
            "Epoch 84/100\n",
            "455/455 [==============================] - 0s 936us/step - loss: 0.0148\n",
            "Epoch 85/100\n",
            "455/455 [==============================] - 0s 917us/step - loss: 0.0118\n",
            "Epoch 86/100\n",
            "455/455 [==============================] - 0s 988us/step - loss: 0.0198\n",
            "Epoch 87/100\n",
            "455/455 [==============================] - 0s 910us/step - loss: 0.0075\n",
            "Epoch 88/100\n",
            "455/455 [==============================] - 0s 928us/step - loss: 0.0135\n",
            "Epoch 89/100\n",
            "455/455 [==============================] - 0s 902us/step - loss: 0.0071\n",
            "Epoch 90/100\n",
            "455/455 [==============================] - 0s 938us/step - loss: 0.0107\n",
            "Epoch 91/100\n",
            "455/455 [==============================] - 0s 923us/step - loss: 0.0131\n",
            "Epoch 92/100\n",
            "455/455 [==============================] - 0s 928us/step - loss: 0.0141\n",
            "Epoch 93/100\n",
            "455/455 [==============================] - 0s 910us/step - loss: 0.0030\n",
            "Epoch 94/100\n",
            "455/455 [==============================] - 0s 961us/step - loss: 0.0189\n",
            "Epoch 95/100\n",
            "455/455 [==============================] - 0s 885us/step - loss: 0.0131\n",
            "Epoch 96/100\n",
            "455/455 [==============================] - 1s 1ms/step - loss: 0.0026\n",
            "Epoch 97/100\n",
            "455/455 [==============================] - 1s 1ms/step - loss: 0.0195\n",
            "Epoch 98/100\n",
            "455/455 [==============================] - 0s 1ms/step - loss: 0.0206\n",
            "Epoch 99/100\n",
            "455/455 [==============================] - 0s 975us/step - loss: 0.0113\n",
            "Epoch 100/100\n",
            "455/455 [==============================] - 0s 977us/step - loss: 0.0099\n"
          ],
          "name": "stdout"
        },
        {
          "output_type": "execute_result",
          "data": {
            "text/plain": [
              "<tensorflow.python.keras.callbacks.History at 0x7f03b1706e10>"
            ]
          },
          "metadata": {
            "tags": []
          },
          "execution_count": 39
        }
      ]
    },
    {
      "cell_type": "code",
      "metadata": {
        "id": "dtVsBAGc2TVH"
      },
      "source": [
        "Y_pred=classifier.predict(X_test)\n",
        "Y_pred=[1 if y>=0.5 else 0 for y in Y_pred]"
      ],
      "execution_count": null,
      "outputs": []
    },
    {
      "cell_type": "code",
      "metadata": {
        "id": "Gvc0tOcTFapO",
        "outputId": "d22b5c81-05c9-4dde-cb21-b2c8f4a8c826",
        "colab": {
          "base_uri": "https://localhost:8080/",
          "height": 34
        }
      },
      "source": [
        "total=0\n",
        "correct=0\n",
        "wrong=0\n",
        "\n",
        "for i in range(len(Y_pred)):\n",
        "  total=total+1\n",
        "  if(Y_test.iloc[i,0] == Y_pred[i]):\n",
        "    correct+=1\n",
        "  else:\n",
        "    wrong+=1\n",
        "\n",
        "print(total, correct, wrong)"
      ],
      "execution_count": null,
      "outputs": [
        {
          "output_type": "stream",
          "text": [
            "114 111 3\n"
          ],
          "name": "stdout"
        }
      ]
    },
    {
      "cell_type": "code",
      "metadata": {
        "id": "Kmz78sd3zBtm",
        "outputId": "4ebde8eb-9ac6-4f57-c9cb-c5fe18a893b2",
        "colab": {
          "base_uri": "https://localhost:8080/",
          "height": 35
        }
      },
      "source": [
        "import tensorflow as tf\n",
        "tf.__version__"
      ],
      "execution_count": null,
      "outputs": [
        {
          "output_type": "execute_result",
          "data": {
            "application/vnd.google.colaboratory.intrinsic+json": {
              "type": "string"
            },
            "text/plain": [
              "'2.3.0'"
            ]
          },
          "metadata": {
            "tags": []
          },
          "execution_count": 3
        }
      ]
    },
    {
      "cell_type": "markdown",
      "metadata": {
        "id": "EGOBndVRzkzP"
      },
      "source": [
        "# **Natural Language Processing**"
      ]
    },
    {
      "cell_type": "code",
      "metadata": {
        "id": "OqE7BgC-zkTG",
        "outputId": "7e843393-8773-4aea-d064-ee6384b2a7b7",
        "colab": {
          "base_uri": "https://localhost:8080/",
          "height": 137
        }
      },
      "source": [
        "import tensorflow as tf\n",
        "from tensorflow import keras\n",
        "from tensorflow.keras.preprocessing.text import Tokenizer\n",
        "from tensorflow.keras.preprocessing.sequence import pad_sequences\n",
        "\n",
        "\n",
        "sentences = [\n",
        "             'I love my dog',\n",
        "             'I love my cat',\n",
        "             'You love my dog!', #remove the puntuation marks\n",
        "             'Do you think my dog is amazing?'\n",
        "]\n",
        "\n",
        "test_data = ['i really love my dog',\n",
        "             'my dog loves my manatee'\n",
        "]\n",
        "\n",
        "\n",
        "tokenizer = Tokenizer(num_words = 100, oov_token=\"<OOV>\") #oov - out of vocabulary #maintain sequence of differnt length\n",
        "tokenizer.fit_on_texts(sentences)  # give a number to a word by tokenizing all words from all sentences, which will be stored in word_index\n",
        "word_index = tokenizer.word_index  # \n",
        "\n",
        "sequences = tokenizer.texts_to_sequences(sentences)   # convert each sentence as sequence\n",
        "padded=pad_sequences(sequences, padding='post', truncating='post', maxlen=5) # convert the sequences to padded sequence\n",
        "\n",
        "test_seqs=tokenizer.texts_to_sequences(test_data) \n",
        "\n",
        "print(word_index)\n",
        "print(sequences)\n",
        "print(padded)\n",
        "print(test_seqs)\n"
      ],
      "execution_count": null,
      "outputs": [
        {
          "output_type": "stream",
          "text": [
            "{'<OOV>': 1, 'my': 2, 'love': 3, 'dog': 4, 'i': 5, 'you': 6, 'cat': 7, 'do': 8, 'think': 9, 'is': 10, 'amazing': 11}\n",
            "[[5, 3, 2, 4], [5, 3, 2, 7], [6, 3, 2, 4], [8, 6, 9, 2, 4, 10, 11]]\n",
            "[[5 3 2 4 0]\n",
            " [5 3 2 7 0]\n",
            " [6 3 2 4 0]\n",
            " [8 6 9 2 4]]\n",
            "[[5, 1, 3, 2, 4], [2, 4, 1, 2, 1]]\n"
          ],
          "name": "stdout"
        }
      ]
    },
    {
      "cell_type": "code",
      "metadata": {
        "id": "jO8hK2uyFKru"
      },
      "source": [
        ""
      ],
      "execution_count": null,
      "outputs": []
    },
    {
      "cell_type": "code",
      "metadata": {
        "id": "YbH6AgjBFLjv",
        "outputId": "ebe51be8-4bd4-4c5a-d275-27c162b89942",
        "colab": {
          "base_uri": "https://localhost:8080/",
          "height": 188
        }
      },
      "source": [
        "import json\n",
        "\n",
        "#from google.colab import files\n",
        "#file=files.upload()\n",
        "\n",
        "datastore=[]\n",
        "for line in open('Sarcasm_Headlines_Dataset_v2.json', 'r'):\n",
        "    datastore.append(json.loads(line))\n",
        "print(datastore)\n",
        "#datastore = json.load(f)"
      ],
      "execution_count": null,
      "outputs": [
        {
          "output_type": "stream",
          "text": [
            "IOPub data rate exceeded.\n",
            "The notebook server will temporarily stop sending output\n",
            "to the client in order to avoid crashing it.\n",
            "To change this limit, set the config variable\n",
            "`--NotebookApp.iopub_data_rate_limit`.\n",
            "\n",
            "Current values:\n",
            "NotebookApp.iopub_data_rate_limit=1000000.0 (bytes/sec)\n",
            "NotebookApp.rate_limit_window=3.0 (secs)\n",
            "\n"
          ],
          "name": "stderr"
        }
      ]
    },
    {
      "cell_type": "code",
      "metadata": {
        "id": "LZqC4qCY35Q7",
        "outputId": "bcfd84a7-5e35-4ba2-d940-a495399249fa",
        "colab": {
          "base_uri": "https://localhost:8080/",
          "height": 137
        }
      },
      "source": [
        "import json\n",
        "\n",
        "#from google.colab import files\n",
        "#file=files.upload()\n",
        "\n",
        "datastore=[]\n",
        "for line in open('Sarcasm_Headlines_Dataset.json', 'r'):\n",
        "    datastore.append(json.loads(line))\n",
        "\n",
        "  #datastore = json.load(f)\n",
        "\n",
        "sentences = []\n",
        "labels = []\n",
        "urls = []\n",
        "\n",
        "\n",
        "\n",
        "for item in datastore:\n",
        "  sentences.append(item['headline'])\n",
        "  labels.append(item['is_sarcastic'])\n",
        "  urls.append(item['article_link'])\n",
        "\n",
        "\n",
        "print(len(sentences))\n",
        "\n",
        "\n",
        "from tensorflow.keras.preprocessing.text import Tokenizer\n",
        "from tensorflow.keras.preprocessing.sequence import pad_sequences \n",
        "\n",
        "tokenizer = Tokenizer(oov_token='<OOV>')\n",
        "tokenizer.fit_on_texts(sentences)\n",
        "word_index = tokenizer.word_index\n",
        "print(len(word_index))\n",
        "\n",
        "sequences = tokenizer.texts_to_sequences(sentences)\n",
        "padded = pad_sequences(sequences, padding='post')\n",
        "print(padded[0])\n",
        "print(padded.shape)\n",
        "\n",
        "\n"
      ],
      "execution_count": null,
      "outputs": [
        {
          "output_type": "stream",
          "text": [
            "26709\n",
            "29657\n",
            "[  308 15115   679  3337  2298    48   382  2576 15116     6  2577  8434\n",
            "     0     0     0     0     0     0     0     0     0     0     0     0\n",
            "     0     0     0     0     0     0     0     0     0     0     0     0\n",
            "     0     0     0     0]\n",
            "(26709, 40)\n"
          ],
          "name": "stdout"
        }
      ]
    },
    {
      "cell_type": "code",
      "metadata": {
        "id": "rIJO6X2AN2D7"
      },
      "source": [
        ""
      ],
      "execution_count": null,
      "outputs": []
    },
    {
      "cell_type": "code",
      "metadata": {
        "id": "fwhkmBv-N2HV"
      },
      "source": [
        "import json\n",
        "import tensorflow as tf\n",
        "\n",
        "from tensorflow.keras.preprocessing.text import Tokenizer\n",
        "from tensorflow.keras.preprocessing.sequence import pad_sequences"
      ],
      "execution_count": null,
      "outputs": []
    },
    {
      "cell_type": "code",
      "metadata": {
        "id": "WgF3DxUjN15h"
      },
      "source": [
        "vocab_size = 10000\n",
        "embedding_dim = 16\n",
        "max_length = 100\n",
        "trunc_type='post'\n",
        "padding_type='post'\n",
        "oov_tok = \"<OOV>\"\n",
        "training_size = 20000\n"
      ],
      "execution_count": null,
      "outputs": []
    },
    {
      "cell_type": "code",
      "metadata": {
        "id": "ngwiu6DzPGqE"
      },
      "source": [
        ""
      ],
      "execution_count": null,
      "outputs": []
    },
    {
      "cell_type": "code",
      "metadata": {
        "id": "BQVuQrZNkPn9",
        "outputId": "489141a8-2db1-4e26-f52c-9fe0fcace8ab",
        "colab": {
          "base_uri": "https://localhost:8080/",
          "height": 206
        }
      },
      "source": [
        "!wget --no-check-certificate \\\n",
        "    https://storage.googleapis.com/laurencemoroney-blog.appspot.com/sarcasm.json \\\n",
        "    -O /tmp/sarcasm.json\n"
      ],
      "execution_count": null,
      "outputs": [
        {
          "output_type": "stream",
          "text": [
            "--2020-10-16 11:49:09--  https://storage.googleapis.com/laurencemoroney-blog.appspot.com/sarcasm.json\n",
            "Resolving storage.googleapis.com (storage.googleapis.com)... 173.194.69.128, 108.177.119.128, 108.177.126.128, ...\n",
            "Connecting to storage.googleapis.com (storage.googleapis.com)|173.194.69.128|:443... connected.\n",
            "HTTP request sent, awaiting response... 200 OK\n",
            "Length: 5643545 (5.4M) [application/json]\n",
            "Saving to: ‘/tmp/sarcasm.json’\n",
            "\n",
            "\r/tmp/sarcasm.json     0%[                    ]       0  --.-KB/s               \r/tmp/sarcasm.json   100%[===================>]   5.38M  --.-KB/s    in 0.04s   \n",
            "\n",
            "2020-10-16 11:49:09 (128 MB/s) - ‘/tmp/sarcasm.json’ saved [5643545/5643545]\n",
            "\n"
          ],
          "name": "stdout"
        }
      ]
    },
    {
      "cell_type": "code",
      "metadata": {
        "id": "VEc9R085N6F8",
        "outputId": "5c08d941-a6e5-47d8-90f0-fc03dfeeb6d6",
        "colab": {
          "base_uri": "https://localhost:8080/",
          "height": 34
        }
      },
      "source": [
        "datastore=[]\n",
        "#for line in open('Sarcasm_Headlines_Dataset.json', 'r'):\n",
        "#    datastore.append(json.loads(line))\n",
        "with open(\"/tmp/sarcasm.json\", 'r') as f:\n",
        "    datastore = json.load(f)\n",
        "\n",
        "sentences = []\n",
        "labels = []\n",
        "\n",
        "for item in datastore:\n",
        "  sentences.append(item['headline'])\n",
        "  labels.append(item['is_sarcastic'])\n",
        "\n",
        "print(len(sentences))"
      ],
      "execution_count": null,
      "outputs": [
        {
          "output_type": "stream",
          "text": [
            "26709\n"
          ],
          "name": "stdout"
        }
      ]
    },
    {
      "cell_type": "code",
      "metadata": {
        "id": "PZI-HaVKN59p"
      },
      "source": [
        ""
      ],
      "execution_count": null,
      "outputs": []
    },
    {
      "cell_type": "code",
      "metadata": {
        "id": "PNHWpgSBHkLB",
        "outputId": "b5856e8e-4c53-4ec6-e441-69809201b2a2",
        "colab": {
          "base_uri": "https://localhost:8080/",
          "height": 34
        }
      },
      "source": [
        "\n",
        "training_sentences = sentences[0:training_size]\n",
        "testing_sentences = sentences[training_size:]\n",
        "training_labels = labels[0:training_size]\n",
        "testing_labels = labels[training_size:]\n",
        "\n",
        "print(len(training_sentences))"
      ],
      "execution_count": null,
      "outputs": [
        {
          "output_type": "stream",
          "text": [
            "20000\n"
          ],
          "name": "stdout"
        }
      ]
    },
    {
      "cell_type": "code",
      "metadata": {
        "id": "Recw0TXJIZGf"
      },
      "source": [
        "\n",
        "tokenizer = Tokenizer(num_words=vocab_size, oov_token=oov_tok)\n",
        "tokenizer.fit_on_texts(training_sentences)\n",
        "\n",
        "word_index = tokenizer.word_index\n",
        "\n",
        "training_sentences = tokenizer.texts_to_sequences(training_sentences)\n",
        "#training_padded = pad_sequences(training_sentences, padding='post')\n",
        "training_padded = pad_sequences(training_sentences, maxlen=max_length, padding=padding_type, truncating=trunc_type)\n",
        "\n",
        "testing_sentences = tokenizer.texts_to_sequences(testing_sentences)\n",
        "#testing_padded = pad_sequences(testing_sentences, padding='post')\n",
        "testing_padded = pad_sequences(testing_sentences, maxlen=max_length, padding=padding_type, truncating=trunc_type)\n"
      ],
      "execution_count": null,
      "outputs": []
    },
    {
      "cell_type": "code",
      "metadata": {
        "id": "X7o58WkIQP75",
        "outputId": "df39c972-db51-41e5-ccda-2b08b66b47de",
        "colab": {
          "base_uri": "https://localhost:8080/",
          "height": 34
        }
      },
      "source": [
        "print(len(training_padded[0]), len(testing_padded[0]))"
      ],
      "execution_count": null,
      "outputs": [
        {
          "output_type": "stream",
          "text": [
            "100 100\n"
          ],
          "name": "stdout"
        }
      ]
    },
    {
      "cell_type": "code",
      "metadata": {
        "id": "QlaFpzftNdoY",
        "outputId": "bc857903-b870-4514-da33-78b691753589",
        "colab": {
          "base_uri": "https://localhost:8080/",
          "height": 34
        }
      },
      "source": [
        "# Need this block to get it to work with TensorFlow 2.x\n",
        "import numpy as np\n",
        "training_padded = np.array(training_padded)\n",
        "training_labels = np.array(training_labels)\n",
        "testing_padded = np.array(testing_padded)\n",
        "testing_labels = np.array(testing_labels)\n",
        "\n",
        "print(training_padded.shape, training_labels.shape, testing_padded.shape, testing_labels.shape)"
      ],
      "execution_count": null,
      "outputs": [
        {
          "output_type": "stream",
          "text": [
            "(20000, 100) (20000,) (6709, 100) (6709,)\n"
          ],
          "name": "stdout"
        }
      ]
    },
    {
      "cell_type": "code",
      "metadata": {
        "id": "BLqt6b0AJVAz"
      },
      "source": [
        "\n",
        "model = tf.keras.Sequential([\n",
        "        \n",
        "        tf.keras.layers.Embedding(vocab_size, embedding_dim, input_length=max_length),\n",
        "        tf.keras.layers.GlobalAveragePooling1D(),\n",
        "        tf.keras.layers.Dense(24, activation='relu'),\n",
        "        tf.keras.layers.Dense(1, activation='sigmoid')\n",
        "])\n",
        "\n",
        "model.compile(optimizer='adam', loss='binary_crossentropy', metrics=['accuracy'])\n"
      ],
      "execution_count": null,
      "outputs": []
    },
    {
      "cell_type": "code",
      "metadata": {
        "id": "3DGJrqY8TrKi"
      },
      "source": [
        "\n",
        "model = tf.keras.Sequential([\n",
        "        \n",
        "        tf.keras.layers.Embedding(vocab_size, embedding_dim, input_length=max_length),\n",
        "        tf.keras.layers.Bidirectional(tf.keras.layers.LSTM(64)),\n",
        "        tf.keras.layers.Dense(24, activation='relu'),\n",
        "        tf.keras.layers.Dense(1, activation='sigmoid')\n",
        "])\n",
        "\n",
        "model.compile(optimizer='adam', loss='binary_crossentropy', metrics=['accuracy'])"
      ],
      "execution_count": null,
      "outputs": []
    },
    {
      "cell_type": "code",
      "metadata": {
        "id": "YQ_ilBfiUIHV"
      },
      "source": [
        "\n",
        "model = tf.keras.Sequential([\n",
        "        \n",
        "        tf.keras.layers.Embedding(vocab_size, embedding_dim, input_length=max_length),\n",
        "        tf.keras.layers.Bidirectional(tf.keras.layers.LSTM(64, return_sequence=True)),\n",
        "        tf.keras.layers.Bidirectional(tf.keras.layers.LSTM(32)),\n",
        "        tf.keras.layers.Dense(24, activation='relu'),\n",
        "        tf.keras.layers.Dense(1, activation='sigmoid')\n",
        "])\n",
        "\n",
        "model.compile(optimizer='adam', loss='binary_crossentropy', metrics=['accuracy'])"
      ],
      "execution_count": null,
      "outputs": []
    },
    {
      "cell_type": "code",
      "metadata": {
        "id": "1NAO4XdOOVxl",
        "outputId": "5eb53dea-9704-44b8-b57e-6384e365cf50",
        "colab": {
          "base_uri": "https://localhost:8080/",
          "height": 291
        }
      },
      "source": [
        "model.summary()"
      ],
      "execution_count": null,
      "outputs": [
        {
          "output_type": "stream",
          "text": [
            "Model: \"sequential_7\"\n",
            "_________________________________________________________________\n",
            "Layer (type)                 Output Shape              Param #   \n",
            "=================================================================\n",
            "embedding_7 (Embedding)      (None, 100, 16)           160000    \n",
            "_________________________________________________________________\n",
            "bidirectional (Bidirectional (None, 128)               41472     \n",
            "_________________________________________________________________\n",
            "dense_14 (Dense)             (None, 24)                3096      \n",
            "_________________________________________________________________\n",
            "dense_15 (Dense)             (None, 1)                 25        \n",
            "=================================================================\n",
            "Total params: 204,593\n",
            "Trainable params: 204,593\n",
            "Non-trainable params: 0\n",
            "_________________________________________________________________\n"
          ],
          "name": "stdout"
        }
      ]
    },
    {
      "cell_type": "code",
      "metadata": {
        "id": "7j5_h0W_OSlB",
        "outputId": "546cd9d5-a168-4e26-e94f-046453d2b9a7",
        "colab": {
          "base_uri": "https://localhost:8080/",
          "height": 360
        }
      },
      "source": [
        "num_epochs = 30\n",
        "print(training_padded.shape, training_labels.shape, testing_padded.shape, testing_labels.shape)\n",
        "history = model.fit(training_padded, training_labels, epochs=num_epochs, validation_data=(testing_padded, testing_labels), verbose=2)\n"
      ],
      "execution_count": null,
      "outputs": [
        {
          "output_type": "stream",
          "text": [
            "(20000, 100) (20000,) (6709, 100) (6709,)\n",
            "Epoch 1/30\n",
            "625/625 - 32s - loss: 0.4179 - accuracy: 0.7897 - val_loss: 0.3376 - val_accuracy: 0.8489\n",
            "Epoch 2/30\n",
            "625/625 - 32s - loss: 0.2202 - accuracy: 0.9087 - val_loss: 0.3396 - val_accuracy: 0.8563\n",
            "Epoch 3/30\n",
            "625/625 - 32s - loss: 0.1434 - accuracy: 0.9454 - val_loss: 0.3891 - val_accuracy: 0.8521\n",
            "Epoch 4/30\n",
            "625/625 - 31s - loss: 0.0868 - accuracy: 0.9688 - val_loss: 0.4828 - val_accuracy: 0.8487\n",
            "Epoch 5/30\n",
            "625/625 - 32s - loss: 0.0507 - accuracy: 0.9843 - val_loss: 0.5945 - val_accuracy: 0.8395\n",
            "Epoch 6/30\n",
            "625/625 - 32s - loss: 0.0339 - accuracy: 0.9887 - val_loss: 0.6616 - val_accuracy: 0.8398\n",
            "Epoch 7/30\n",
            "625/625 - 32s - loss: 0.0241 - accuracy: 0.9923 - val_loss: 0.7721 - val_accuracy: 0.8389\n",
            "Epoch 8/30\n",
            "625/625 - 32s - loss: 0.0152 - accuracy: 0.9950 - val_loss: 0.8626 - val_accuracy: 0.8329\n",
            "Epoch 9/30\n",
            "625/625 - 32s - loss: 0.0116 - accuracy: 0.9965 - val_loss: 0.9203 - val_accuracy: 0.8363\n",
            "Epoch 10/30\n"
          ],
          "name": "stdout"
        }
      ]
    },
    {
      "cell_type": "code",
      "metadata": {
        "id": "1WK51WHaRygE"
      },
      "source": [
        ""
      ],
      "execution_count": null,
      "outputs": []
    },
    {
      "cell_type": "code",
      "metadata": {
        "id": "2HYfBKXjkmU8",
        "outputId": "8bc87897-e88a-4667-bdd4-814b75fa1029",
        "colab": {
          "base_uri": "https://localhost:8080/",
          "height": 541
        }
      },
      "source": [
        "import matplotlib.pyplot as plt\n",
        "\n",
        "\n",
        "def plot_graphs(history, string):\n",
        "  plt.plot(history.history[string])\n",
        "  plt.plot(history.history['val_'+string])\n",
        "  plt.xlabel(\"Epochs\")\n",
        "  plt.ylabel(string)\n",
        "  plt.legend([string, 'val_'+string])\n",
        "  plt.show()\n",
        "  \n",
        "plot_graphs(history, \"accuracy\")\n",
        "plot_graphs(history, \"loss\")"
      ],
      "execution_count": null,
      "outputs": [
        {
          "output_type": "display_data",
          "data": {
            "image/png": "[encoded data removed]",
            "text/plain": [
              "<Figure size 432x288 with 1 Axes>"
            ]
          },
          "metadata": {
            "tags": [],
            "needs_background": "light"
          }
        },
        {
          "output_type": "display_data",
          "data": {
            "image/png": "[encoded data removed]",
            "text/plain": [
              "<Figure size 432x288 with 1 Axes>"
            ]
          },
          "metadata": {
            "tags": [],
            "needs_background": "light"
          }
        }
      ]
    },
    {
      "cell_type": "code",
      "metadata": {
        "id": "lexBq-9DSLwH",
        "outputId": "11edb7ac-f1f4-42b8-cf43-1854c7e2f73d",
        "colab": {
          "base_uri": "https://localhost:8080/",
          "height": 88
        }
      },
      "source": [
        "reverse_word_index = dict([(value, key) for (key, value) in word_index.items()])\n",
        "\n",
        "def decode_sentence(text):\n",
        "    return ' '.join([reverse_word_index.get(i, '?') for i in text])\n",
        "\n",
        "print(decode_sentence(training_padded[0]))\n",
        "print(training_sentences[2])\n",
        "print(labels[2])"
      ],
      "execution_count": null,
      "outputs": [
        {
          "output_type": "stream",
          "text": [
            "former <OOV> store clerk sues over secret 'black <OOV> for minority shoppers ? ? ? ? ? ? ? ? ? ? ? ? ? ? ? ? ? ? ? ? ? ? ? ? ? ? ? ? ? ? ? ? ? ? ? ? ? ? ? ? ? ? ? ? ? ? ? ? ? ? ? ? ? ? ? ? ? ? ? ? ? ? ? ? ? ? ? ? ? ? ? ? ? ? ? ? ? ? ? ? ? ? ? ? ? ? ? ?\n",
            "[153, 890, 2, 891, 1445, 2215, 595, 5650, 221, 133, 36, 45, 2, 8864]\n",
            "1\n"
          ],
          "name": "stdout"
        }
      ]
    },
    {
      "cell_type": "code",
      "metadata": {
        "id": "l-Mi3A-ISOSa",
        "outputId": "8b84c4cb-ba63-4a8d-cf89-8d47a2b11958",
        "colab": {
          "base_uri": "https://localhost:8080/",
          "height": 34
        }
      },
      "source": [
        "e = model.layers[0]\n",
        "weights = e.get_weights()[0]\n",
        "print(weights.shape) # shape: (vocab_size, embedding_dim)\n"
      ],
      "execution_count": null,
      "outputs": [
        {
          "output_type": "stream",
          "text": [
            "(10000, 16)\n"
          ],
          "name": "stdout"
        }
      ]
    },
    {
      "cell_type": "code",
      "metadata": {
        "id": "qGopdv05SWHp"
      },
      "source": [
        "import io\n",
        "\n",
        "out_v = io.open('vecs.tsv', 'w', encoding='utf-8')\n",
        "out_m = io.open('meta.tsv', 'w', encoding='utf-8')\n",
        "for word_num in range(1, vocab_size):\n",
        "  word = reverse_word_index[word_num]\n",
        "  embeddings = weights[word_num]\n",
        "  out_m.write(word + \"\\n\")\n",
        "  out_v.write('\\t'.join([str(x) for x in embeddings]) + \"\\n\")\n",
        "out_v.close()\n",
        "out_m.close()"
      ],
      "execution_count": null,
      "outputs": []
    },
    {
      "cell_type": "code",
      "metadata": {
        "id": "v-U7neCESc51",
        "outputId": "10a6aac6-7769-4c36-ee92-d939f1cbc5ea",
        "colab": {
          "base_uri": "https://localhost:8080/",
          "height": 17
        }
      },
      "source": [
        "try:\n",
        "  from google.colab import files\n",
        "except ImportError:\n",
        "  pass\n",
        "else:\n",
        "  files.download('vecs.tsv')\n",
        "  files.download('meta.tsv')"
      ],
      "execution_count": null,
      "outputs": [
        {
          "output_type": "display_data",
          "data": {
            "application/javascript": [
              "\n",
              "    async function download(id, filename, size) {\n",
              "      if (!google.colab.kernel.accessAllowed) {\n",
              "        return;\n",
              "      }\n",
              "      const div = document.createElement('div');\n",
              "      const label = document.createElement('label');\n",
              "      label.textContent = `Downloading \"${filename}\": `;\n",
              "      div.appendChild(label);\n",
              "      const progress = document.createElement('progress');\n",
              "      progress.max = size;\n",
              "      div.appendChild(progress);\n",
              "      document.body.appendChild(div);\n",
              "\n",
              "      const buffers = [];\n",
              "      let downloaded = 0;\n",
              "\n",
              "      const channel = await google.colab.kernel.comms.open(id);\n",
              "      // Send a message to notify the kernel that we're ready.\n",
              "      channel.send({})\n",
              "\n",
              "      for await (const message of channel.messages) {\n",
              "        // Send a message to notify the kernel that we're ready.\n",
              "        channel.send({})\n",
              "        if (message.buffers) {\n",
              "          for (const buffer of message.buffers) {\n",
              "            buffers.push(buffer);\n",
              "            downloaded += buffer.byteLength;\n",
              "            progress.value = downloaded;\n",
              "          }\n",
              "        }\n",
              "      }\n",
              "      const blob = new Blob(buffers, {type: 'application/binary'});\n",
              "      const a = document.createElement('a');\n",
              "      a.href = window.URL.createObjectURL(blob);\n",
              "      a.download = filename;\n",
              "      div.appendChild(a);\n",
              "      a.click();\n",
              "      div.remove();\n",
              "    }\n",
              "  "
            ],
            "text/plain": [
              "<IPython.core.display.Javascript object>"
            ]
          },
          "metadata": {
            "tags": []
          }
        },
        {
          "output_type": "display_data",
          "data": {
            "application/javascript": [
              "download(\"download_e6e11927-eede-4688-83d4-c819038be2d9\", \"vecs.tsv\", 1808380)"
            ],
            "text/plain": [
              "<IPython.core.display.Javascript object>"
            ]
          },
          "metadata": {
            "tags": []
          }
        },
        {
          "output_type": "display_data",
          "data": {
            "application/javascript": [
              "\n",
              "    async function download(id, filename, size) {\n",
              "      if (!google.colab.kernel.accessAllowed) {\n",
              "        return;\n",
              "      }\n",
              "      const div = document.createElement('div');\n",
              "      const label = document.createElement('label');\n",
              "      label.textContent = `Downloading \"${filename}\": `;\n",
              "      div.appendChild(label);\n",
              "      const progress = document.createElement('progress');\n",
              "      progress.max = size;\n",
              "      div.appendChild(progress);\n",
              "      document.body.appendChild(div);\n",
              "\n",
              "      const buffers = [];\n",
              "      let downloaded = 0;\n",
              "\n",
              "      const channel = await google.colab.kernel.comms.open(id);\n",
              "      // Send a message to notify the kernel that we're ready.\n",
              "      channel.send({})\n",
              "\n",
              "      for await (const message of channel.messages) {\n",
              "        // Send a message to notify the kernel that we're ready.\n",
              "        channel.send({})\n",
              "        if (message.buffers) {\n",
              "          for (const buffer of message.buffers) {\n",
              "            buffers.push(buffer);\n",
              "            downloaded += buffer.byteLength;\n",
              "            progress.value = downloaded;\n",
              "          }\n",
              "        }\n",
              "      }\n",
              "      const blob = new Blob(buffers, {type: 'application/binary'});\n",
              "      const a = document.createElement('a');\n",
              "      a.href = window.URL.createObjectURL(blob);\n",
              "      a.download = filename;\n",
              "      div.appendChild(a);\n",
              "      a.click();\n",
              "      div.remove();\n",
              "    }\n",
              "  "
            ],
            "text/plain": [
              "<IPython.core.display.Javascript object>"
            ]
          },
          "metadata": {
            "tags": []
          }
        },
        {
          "output_type": "display_data",
          "data": {
            "application/javascript": [
              "download(\"download_5614d30b-95c7-4012-a9a0-542e68237549\", \"meta.tsv\", 75974)"
            ],
            "text/plain": [
              "<IPython.core.display.Javascript object>"
            ]
          },
          "metadata": {
            "tags": []
          }
        }
      ]
    },
    {
      "cell_type": "code",
      "metadata": {
        "id": "zjguo8z2Sf4f",
        "outputId": "36e6366c-c814-4d5d-9837-eb6040b12cfe",
        "colab": {
          "base_uri": "https://localhost:8080/",
          "height": 51
        }
      },
      "source": [
        "sentence = [\"granny starting to fear spiders in the garden might be real\", \"game of thrones season finale showing this sunday night\"]\n",
        "sequences = tokenizer.texts_to_sequences(sentence)\n",
        "padded = pad_sequences(sequences, maxlen=max_length, padding=padding_type, truncating=trunc_type)\n",
        "print(model.predict(padded))"
      ],
      "execution_count": null,
      "outputs": [
        {
          "output_type": "stream",
          "text": [
            "[[9.0199912e-01]\n",
            " [1.1915787e-05]]\n"
          ],
          "name": "stdout"
        }
      ]
    }
  ]
}